{
 "cells": [
  {
   "cell_type": "code",
   "execution_count": 1,
   "id": "adde5156",
   "metadata": {},
   "outputs": [],
   "source": [
    "import pandas as pd\n",
    "import numpy as np\n",
    "import matplotlib.pyplot as plt\n",
    "\n",
    "from sklearn.decomposition import PCA, KernelPCA"
   ]
  },
  {
   "cell_type": "code",
   "execution_count": 2,
   "id": "3dc9b8f9",
   "metadata": {},
   "outputs": [],
   "source": [
    "train_df = pd.read_csv('train.csv')\n",
    "test_df = pd.read_csv('test.csv')"
   ]
  },
  {
   "cell_type": "code",
   "execution_count": 3,
   "id": "195ef69f",
   "metadata": {},
   "outputs": [],
   "source": [
    "from sklearn import preprocessing\n",
    "\n",
    "labelencoder = preprocessing.LabelEncoder()\n",
    "\n",
    "train_df['Product_Info_2'] = labelencoder.fit_transform(train_df['Product_Info_2'])\n",
    "test_df['Product_Info_2'] = labelencoder.fit_transform(test_df['Product_Info_2'])"
   ]
  },
  {
   "cell_type": "code",
   "execution_count": 4,
   "id": "ebea8914",
   "metadata": {},
   "outputs": [],
   "source": [
    "train_df = train_df.fillna(0)\n",
    "test_df = test_df.fillna(0)"
   ]
  },
  {
   "cell_type": "code",
   "execution_count": 79,
   "id": "37a3a3f5",
   "metadata": {},
   "outputs": [],
   "source": [
    "response = train_df.iloc[:8000,-1:]\n",
    "YTRAIN = response #.to_numpy()\n",
    "train_df = train_df.iloc[:8000,:-1]\n",
    "XTRAIN = train_df #.to_numpy()\n",
    "\n",
    "test_df = test_df.iloc[:5000,:-1]\n",
    "XTEST = test_df #.to_numpy()"
   ]
  },
  {
   "cell_type": "code",
   "execution_count": 80,
   "id": "40230364",
   "metadata": {},
   "outputs": [],
   "source": [
    "k = 67\n",
    "\n",
    "lpca = PCA(n_components = k)\n",
    "XTrain_lpca = lpca.fit_transform(XTRAIN)\n",
    "XTest_lpca = lpca.fit_transform(XTEST)\n",
    "\n",
    "kpca = KernelPCA(n_components=k, kernel ='rbf')\n",
    "XTrain_kpca = kpca.fit_transform(XTRAIN)\n",
    "XTest_kpca = kpca.fit_transform(XTEST)"
   ]
  },
  {
   "cell_type": "code",
   "execution_count": 81,
   "id": "e65a567f",
   "metadata": {},
   "outputs": [],
   "source": [
    "from sklearn.model_selection import train_test_split\n",
    "\n",
    "lpca_Xtrain, lpca_Xtest, lpca_Ytrain, lpca_Ytest = train_test_split(XTrain_lpca, YTRAIN, test_size=0.5)\n",
    "kpca_Xtrain, kpca_Xtest, kpca_Ytrain, kpca_Ytest = train_test_split(XTrain_kpca, YTRAIN, test_size=0.5)"
   ]
  },
  {
   "cell_type": "code",
   "execution_count": 83,
   "id": "f64ffc84",
   "metadata": {},
   "outputs": [
    {
     "name": "stderr",
     "output_type": "stream",
     "text": [
      "C:\\Users\\abhil\\anaconda3\\lib\\site-packages\\sklearn\\utils\\validation.py:63: DataConversionWarning: A column-vector y was passed when a 1d array was expected. Please change the shape of y to (n_samples, ), for example using ravel().\n",
      "  return f(*args, **kwargs)\n"
     ]
    },
    {
     "name": "stdout",
     "output_type": "stream",
     "text": [
      "Model accuracy score with Logistic Regression using PCA : 99.8000\n"
     ]
    }
   ],
   "source": [
    "#Logistic Regression using PCA\n",
    "\n",
    "from sklearn.linear_model import LogisticRegression\n",
    "from sklearn.metrics import accuracy_score\n",
    "\n",
    "model= LogisticRegression(multi_class='ovr', solver='liblinear',C=0.1, random_state=40)\n",
    "model.fit(lpca_Xtrain,lpca_Ytrain)\n",
    "pred = model.predict(lpca_Xtest)\n",
    "#print(pred)\n",
    "pred = list(pred)\n",
    "pred = pd.DataFrame(pred, columns=['Response'])\n",
    "#lpca_Ytest = pred.to_numpy()\n",
    "pred.to_excel('our_output.xlsx', index = False)\n",
    "print('Model accuracy score with Logistic Regression using PCA : {0:0.4f}'. format(accuracy_score(lpca_Ytest, pred)*100))"
   ]
  },
  {
   "cell_type": "code",
   "execution_count": 84,
   "id": "4713b56f",
   "metadata": {},
   "outputs": [
    {
     "name": "stdout",
     "output_type": "stream",
     "text": [
      "Model accuracy score with Logistic Regression using Kernel PCA : 94.4250\n"
     ]
    },
    {
     "name": "stderr",
     "output_type": "stream",
     "text": [
      "C:\\Users\\abhil\\anaconda3\\lib\\site-packages\\sklearn\\utils\\validation.py:63: DataConversionWarning: A column-vector y was passed when a 1d array was expected. Please change the shape of y to (n_samples, ), for example using ravel().\n",
      "  return f(*args, **kwargs)\n"
     ]
    }
   ],
   "source": [
    "#Logistic Regression using Kernel PCA\n",
    "\n",
    "model= LogisticRegression(multi_class='ovr', solver='liblinear',C=0.1, random_state=40)\n",
    "model.fit(kpca_Xtrain,kpca_Ytrain)\n",
    "pred = model.predict(kpca_Xtest)\n",
    "#print(pred)\n",
    "pred = list(pred)\n",
    "pred = pd.DataFrame(pred, columns=['Response'])\n",
    "#kpca_Ytest = pred.to_numpy()\n",
    "pred.to_excel('our_output.xlsx', index = False)\n",
    "print('Model accuracy score with Logistic Regression using Kernel PCA : {0:0.4f}'. format(accuracy_score(kpca_Ytest, pred)*100))"
   ]
  },
  {
   "cell_type": "code",
   "execution_count": 85,
   "id": "f10440c3",
   "metadata": {},
   "outputs": [
    {
     "name": "stdout",
     "output_type": "stream",
     "text": [
      "Model accuracy score with Linear Regression using PCA :  94.825\n"
     ]
    }
   ],
   "source": [
    "#Linear Regression using PCA\n",
    "\n",
    "from sklearn.linear_model import LinearRegression\n",
    "\n",
    "model= LinearRegression()\n",
    "model.fit(lpca_Xtrain,lpca_Ytrain)\n",
    "pred = model.predict(lpca_Xtest)\n",
    "\n",
    "pred_linalg= []\n",
    "for i in pred:\n",
    "    i = i.astype(int)\n",
    "    pred_linalg.append(i)\n",
    "\n",
    "#print(pred)\n",
    "accuracy = accuracy_score(lpca_Ytest, pred_linalg)*100\n",
    "accuracy\n",
    "\n",
    "print('Model accuracy score with Linear Regression using PCA : ',accuracy)"
   ]
  },
  {
   "cell_type": "code",
   "execution_count": 86,
   "id": "b3c2d6a1",
   "metadata": {},
   "outputs": [
    {
     "name": "stdout",
     "output_type": "stream",
     "text": [
      "Model accuracy score with Linear Regression using Kernel PCA :  94.325\n"
     ]
    }
   ],
   "source": [
    "#Linear Regression using Kernel PCA\n",
    "\n",
    "model= LinearRegression()\n",
    "model.fit(kpca_Xtrain,kpca_Ytrain)\n",
    "pred = model.predict(kpca_Xtest)\n",
    "\n",
    "pred_linalg= []\n",
    "for i in pred:\n",
    "    i = i.astype(int)\n",
    "    pred_linalg.append(i)\n",
    "\n",
    "#print(pred)\n",
    "accuracy = accuracy_score(kpca_Ytest, pred_linalg)*100\n",
    "accuracy\n",
    "\n",
    "print('Model accuracy score with Linear Regression using Kernel PCA : ',accuracy)"
   ]
  },
  {
   "cell_type": "code",
   "execution_count": 87,
   "id": "b426afa0",
   "metadata": {},
   "outputs": [
    {
     "name": "stdout",
     "output_type": "stream",
     "text": [
      "Model accuracy score with SVMs using PCA : 94.2500\n"
     ]
    },
    {
     "name": "stderr",
     "output_type": "stream",
     "text": [
      "C:\\Users\\abhil\\anaconda3\\lib\\site-packages\\sklearn\\utils\\validation.py:63: DataConversionWarning: A column-vector y was passed when a 1d array was expected. Please change the shape of y to (n_samples, ), for example using ravel().\n",
      "  return f(*args, **kwargs)\n"
     ]
    }
   ],
   "source": [
    "#Support Vector Classification using PCA\n",
    "\n",
    "from sklearn.svm import SVC \n",
    "\n",
    "clf = SVC(kernel='poly', C=0.1, random_state=40)\n",
    "clf.fit(lpca_Xtrain,lpca_Ytrain)\n",
    "pred=clf.predict(lpca_Xtest)\n",
    "#print(pred)\n",
    "print('Model accuracy score with SVMs using PCA : {0:0.4f}'. format(accuracy_score(lpca_Ytest, pred)*100))"
   ]
  },
  {
   "cell_type": "code",
   "execution_count": 88,
   "id": "ae6034c2",
   "metadata": {},
   "outputs": [
    {
     "name": "stderr",
     "output_type": "stream",
     "text": [
      "C:\\Users\\abhil\\anaconda3\\lib\\site-packages\\sklearn\\utils\\validation.py:63: DataConversionWarning: A column-vector y was passed when a 1d array was expected. Please change the shape of y to (n_samples, ), for example using ravel().\n",
      "  return f(*args, **kwargs)\n"
     ]
    },
    {
     "name": "stdout",
     "output_type": "stream",
     "text": [
      "Model accuracy score with SVMs using Kernel PCA : 94.3500\n"
     ]
    }
   ],
   "source": [
    "#Support Vector Classification using Kernel PCA\n",
    "\n",
    "clf = SVC(kernel='poly', C=0.1, random_state=40)\n",
    "clf.fit(kpca_Xtrain,kpca_Ytrain)\n",
    "pred=clf.predict(kpca_Xtest)\n",
    "#print(pred)\n",
    "print('Model accuracy score with SVMs using Kernel PCA : {0:0.4f}'. format(accuracy_score(kpca_Ytest, pred)*100))"
   ]
  },
  {
   "cell_type": "code",
   "execution_count": 89,
   "id": "16fd51ab",
   "metadata": {},
   "outputs": [
    {
     "name": "stdout",
     "output_type": "stream",
     "text": [
      "Model accuracy score with SGD Classifier using PCA : 58.0500\n"
     ]
    },
    {
     "name": "stderr",
     "output_type": "stream",
     "text": [
      "C:\\Users\\abhil\\anaconda3\\lib\\site-packages\\sklearn\\utils\\validation.py:63: DataConversionWarning: A column-vector y was passed when a 1d array was expected. Please change the shape of y to (n_samples, ), for example using ravel().\n",
      "  return f(*args, **kwargs)\n",
      "C:\\Users\\abhil\\anaconda3\\lib\\site-packages\\sklearn\\linear_model\\_stochastic_gradient.py:574: ConvergenceWarning: Maximum number of iteration reached before convergence. Consider increasing max_iter to improve the fit.\n",
      "  warnings.warn(\"Maximum number of iteration reached before \"\n"
     ]
    }
   ],
   "source": [
    "#SGD Classifier using PCA\n",
    "\n",
    "from sklearn.linear_model import SGDClassifier\n",
    "\n",
    "model = SGDClassifier(loss=\"hinge\", max_iter =100, penalty='elasticnet', random_state=40)\n",
    "model.fit(lpca_Xtrain,lpca_Ytrain)\n",
    "pred = model.predict(lpca_Xtest)\n",
    "#print(pred)\n",
    "\n",
    "print('Model accuracy score with SGD Classifier using PCA : {0:0.4f}'. format(accuracy_score(lpca_Ytest, pred)*100))"
   ]
  },
  {
   "cell_type": "code",
   "execution_count": 90,
   "id": "9c34832a",
   "metadata": {},
   "outputs": [
    {
     "name": "stdout",
     "output_type": "stream",
     "text": [
      "Model accuracy score with SGD Classifier using Kernel PCA : 94.4250\n"
     ]
    },
    {
     "name": "stderr",
     "output_type": "stream",
     "text": [
      "C:\\Users\\abhil\\anaconda3\\lib\\site-packages\\sklearn\\utils\\validation.py:63: DataConversionWarning: A column-vector y was passed when a 1d array was expected. Please change the shape of y to (n_samples, ), for example using ravel().\n",
      "  return f(*args, **kwargs)\n"
     ]
    }
   ],
   "source": [
    "#SGD Classifier using Kernel PCA\n",
    "\n",
    "model = SGDClassifier(loss=\"hinge\", max_iter =100, penalty='elasticnet', random_state=40)\n",
    "model.fit(kpca_Xtrain,kpca_Ytrain)\n",
    "pred = model.predict(kpca_Xtest)\n",
    "#print(pred)\n",
    "\n",
    "print('Model accuracy score with SGD Classifier using Kernel PCA : {0:0.4f}'. format(accuracy_score(kpca_Ytest, pred)*100))"
   ]
  },
  {
   "cell_type": "code",
   "execution_count": 91,
   "id": "950d6158",
   "metadata": {},
   "outputs": [
    {
     "name": "stderr",
     "output_type": "stream",
     "text": [
      "C:\\Users\\abhil\\anaconda3\\lib\\site-packages\\xgboost\\sklearn.py:1224: UserWarning: The use of label encoder in XGBClassifier is deprecated and will be removed in a future release. To remove this warning, do the following: 1) Pass option use_label_encoder=False when constructing XGBClassifier object; and 2) Encode your labels (y) as integers starting with 0, i.e. 0, 1, 2, ..., [num_class - 1].\n",
      "  warnings.warn(label_encoder_deprecation_msg, UserWarning)\n",
      "C:\\Users\\abhil\\anaconda3\\lib\\site-packages\\sklearn\\utils\\validation.py:63: DataConversionWarning: A column-vector y was passed when a 1d array was expected. Please change the shape of y to (n_samples, ), for example using ravel().\n",
      "  return f(*args, **kwargs)\n"
     ]
    },
    {
     "name": "stdout",
     "output_type": "stream",
     "text": [
      "[19:57:57] WARNING: C:\\Windows\\Temp\\abs_557yfx631l\\croots\\recipe\\xgboost-split_1659548953302\\work\\src\\learner.cc:1115: Starting in XGBoost 1.3.0, the default evaluation metric used with the objective 'binary:logistic' was changed from 'error' to 'logloss'. Explicitly set eval_metric if you'd like to restore the old behavior.\n",
      "Model accuracy score with XGB Classifier using PCA : 99.9500\n"
     ]
    }
   ],
   "source": [
    "#XGB Classifier using PCA\n",
    "\n",
    "from xgboost import XGBClassifier\n",
    "\n",
    "model = XGBClassifier(booster='gbtree', gamma=1,\n",
    "              learning_rate=0.3, max_depth=4,\n",
    "              min_child_weight=1, n_estimators=100, reg_lambda=3, random_state=40)\n",
    "model.fit(lpca_Xtrain,lpca_Ytrain)\n",
    "pred = model.predict(lpca_Xtest)\n",
    "#print(pred)\n",
    "\n",
    "print('Model accuracy score with XGB Classifier using PCA : {0:0.4f}'. format(accuracy_score(lpca_Ytest, pred)*100))"
   ]
  },
  {
   "cell_type": "code",
   "execution_count": 92,
   "id": "ad8f5faa",
   "metadata": {},
   "outputs": [
    {
     "name": "stdout",
     "output_type": "stream",
     "text": [
      "[19:57:58] WARNING: C:\\Windows\\Temp\\abs_557yfx631l\\croots\\recipe\\xgboost-split_1659548953302\\work\\src\\learner.cc:1115: Starting in XGBoost 1.3.0, the default evaluation metric used with the objective 'binary:logistic' was changed from 'error' to 'logloss'. Explicitly set eval_metric if you'd like to restore the old behavior.\n"
     ]
    },
    {
     "name": "stderr",
     "output_type": "stream",
     "text": [
      "C:\\Users\\abhil\\anaconda3\\lib\\site-packages\\xgboost\\sklearn.py:1224: UserWarning: The use of label encoder in XGBClassifier is deprecated and will be removed in a future release. To remove this warning, do the following: 1) Pass option use_label_encoder=False when constructing XGBClassifier object; and 2) Encode your labels (y) as integers starting with 0, i.e. 0, 1, 2, ..., [num_class - 1].\n",
      "  warnings.warn(label_encoder_deprecation_msg, UserWarning)\n",
      "C:\\Users\\abhil\\anaconda3\\lib\\site-packages\\sklearn\\utils\\validation.py:63: DataConversionWarning: A column-vector y was passed when a 1d array was expected. Please change the shape of y to (n_samples, ), for example using ravel().\n",
      "  return f(*args, **kwargs)\n"
     ]
    },
    {
     "name": "stdout",
     "output_type": "stream",
     "text": [
      "Model accuracy score with XGB Classifier using Kernel PCA : 94.4250\n"
     ]
    }
   ],
   "source": [
    "#XGB Classifier using Kernel PCA\n",
    "\n",
    "from xgboost import XGBClassifier\n",
    "\n",
    "model = XGBClassifier(booster='gbtree', gamma=1,\n",
    "              learning_rate=0.3, max_depth=4,\n",
    "              min_child_weight=1, n_estimators=100, reg_lambda=3, random_state=40)\n",
    "model.fit(kpca_Xtrain,kpca_Ytrain)\n",
    "pred = model.predict(kpca_Xtest)\n",
    "#print(pred)\n",
    "\n",
    "print('Model accuracy score with XGB Classifier using Kernel PCA : {0:0.4f}'. format(accuracy_score(kpca_Ytest, pred)*100))"
   ]
  },
  {
   "cell_type": "code",
   "execution_count": 93,
   "id": "321b0c65",
   "metadata": {},
   "outputs": [
    {
     "name": "stderr",
     "output_type": "stream",
     "text": [
      "C:\\Users\\abhil\\AppData\\Local\\Temp/ipykernel_31872/3195189104.py:6: DataConversionWarning: A column-vector y was passed when a 1d array was expected. Please change the shape of y to (n_samples,), for example using ravel().\n",
      "  rfc.fit(lpca_Xtrain, lpca_Ytrain)\n"
     ]
    },
    {
     "name": "stdout",
     "output_type": "stream",
     "text": [
      "Model accuracy score with 10 decision-trees using PCA: 99.9250\n"
     ]
    }
   ],
   "source": [
    "#Random Forest with 10 Decision Trees using PCA\n",
    "\n",
    "from sklearn.ensemble import RandomForestClassifier\n",
    "\n",
    "rfc = RandomForestClassifier(random_state=40)\n",
    "rfc.fit(lpca_Xtrain, lpca_Ytrain)\n",
    "\n",
    "y_pred = rfc.predict(lpca_Xtest)\n",
    "\n",
    "print('Model accuracy score with 10 decision-trees using PCA: {0:0.4f}'. format(accuracy_score(lpca_Ytest, y_pred)*100))"
   ]
  },
  {
   "cell_type": "code",
   "execution_count": 94,
   "id": "f04481f3",
   "metadata": {},
   "outputs": [
    {
     "name": "stderr",
     "output_type": "stream",
     "text": [
      "C:\\Users\\abhil\\AppData\\Local\\Temp/ipykernel_31872/3407828140.py:4: DataConversionWarning: A column-vector y was passed when a 1d array was expected. Please change the shape of y to (n_samples,), for example using ravel().\n",
      "  rfc.fit(kpca_Xtrain, kpca_Ytrain)\n"
     ]
    },
    {
     "name": "stdout",
     "output_type": "stream",
     "text": [
      "Model accuracy score with 10 decision-trees using Kernel PCA : 94.0000\n"
     ]
    }
   ],
   "source": [
    "#Random Forest with 10 Decision Trees using Kernel PCA\n",
    "\n",
    "rfc = RandomForestClassifier(random_state=40)\n",
    "rfc.fit(kpca_Xtrain, kpca_Ytrain)\n",
    "\n",
    "y_pred = rfc.predict(kpca_Xtest)\n",
    "\n",
    "print('Model accuracy score with 10 decision-trees using Kernel PCA : {0:0.4f}'. format(accuracy_score(kpca_Ytest, y_pred)*100))"
   ]
  },
  {
   "cell_type": "code",
   "execution_count": 95,
   "id": "86dc92b2",
   "metadata": {},
   "outputs": [
    {
     "name": "stderr",
     "output_type": "stream",
     "text": [
      "C:\\Users\\abhil\\anaconda3\\lib\\site-packages\\sklearn\\neighbors\\_classification.py:179: DataConversionWarning: A column-vector y was passed when a 1d array was expected. Please change the shape of y to (n_samples,), for example using ravel().\n",
      "  return self._fit(X, y)\n"
     ]
    },
    {
     "name": "stdout",
     "output_type": "stream",
     "text": [
      "Model accuracy score with K Neighbours Classifier using PCA : 94.2500\n"
     ]
    }
   ],
   "source": [
    "#K Neighbours Classifier using PCA\n",
    "\n",
    "from sklearn.neighbors import KNeighborsClassifier\n",
    "model = KNeighborsClassifier(n_neighbors=40)\n",
    "model.fit(lpca_Xtrain,lpca_Ytrain)\n",
    "pred = model.predict(lpca_Xtest)\n",
    "#print(pred)\n",
    "\n",
    "print('Model accuracy score with K Neighbours Classifier using PCA : {0:0.4f}'. format(accuracy_score(lpca_Ytest, pred)*100))"
   ]
  },
  {
   "cell_type": "code",
   "execution_count": 96,
   "id": "182264da",
   "metadata": {},
   "outputs": [
    {
     "name": "stderr",
     "output_type": "stream",
     "text": [
      "C:\\Users\\abhil\\anaconda3\\lib\\site-packages\\sklearn\\neighbors\\_classification.py:179: DataConversionWarning: A column-vector y was passed when a 1d array was expected. Please change the shape of y to (n_samples,), for example using ravel().\n",
      "  return self._fit(X, y)\n"
     ]
    },
    {
     "name": "stdout",
     "output_type": "stream",
     "text": [
      "Model accuracy score with K Neighbours Classifier using Kernel PCA : 94.4250\n"
     ]
    }
   ],
   "source": [
    "#K Neighbours Classifier using Kernel PCA\n",
    "\n",
    "model = KNeighborsClassifier(n_neighbors=40)\n",
    "model.fit(kpca_Xtrain,kpca_Ytrain)\n",
    "pred = model.predict(kpca_Xtest)\n",
    "#print(pred)\n",
    "\n",
    "print('Model accuracy score with K Neighbours Classifier using Kernel PCA : {0:0.4f}'. format(accuracy_score(kpca_Ytest, pred)*100))"
   ]
  },
  {
   "cell_type": "code",
   "execution_count": 97,
   "id": "430a0f31",
   "metadata": {},
   "outputs": [
    {
     "name": "stdout",
     "output_type": "stream",
     "text": [
      "Epoch 1/20\n",
      "125/125 [==============================] - 1s 1ms/step - loss: 0.0000e+00 - accuracy: 0.9433\n",
      "Epoch 2/20\n",
      "125/125 [==============================] - 0s 1ms/step - loss: 0.0000e+00 - accuracy: 0.9438\n",
      "Epoch 3/20\n",
      "125/125 [==============================] - 0s 1ms/step - loss: 0.0000e+00 - accuracy: 0.9438\n",
      "Epoch 4/20\n",
      "125/125 [==============================] - 0s 1ms/step - loss: 0.0000e+00 - accuracy: 0.9438\n",
      "Epoch 5/20\n",
      "125/125 [==============================] - 0s 1ms/step - loss: 0.0000e+00 - accuracy: 0.9438\n",
      "Epoch 6/20\n",
      "125/125 [==============================] - 0s 1ms/step - loss: 0.0000e+00 - accuracy: 0.9438\n",
      "Epoch 7/20\n",
      "125/125 [==============================] - 0s 1ms/step - loss: 0.0000e+00 - accuracy: 0.9438\n",
      "Epoch 8/20\n",
      "125/125 [==============================] - 0s 2ms/step - loss: 0.0000e+00 - accuracy: 0.9438\n",
      "Epoch 9/20\n",
      "125/125 [==============================] - 0s 1ms/step - loss: 0.0000e+00 - accuracy: 0.9438\n",
      "Epoch 10/20\n",
      "125/125 [==============================] - 0s 1ms/step - loss: 0.0000e+00 - accuracy: 0.9438\n",
      "Epoch 11/20\n",
      "125/125 [==============================] - 0s 1ms/step - loss: 0.0000e+00 - accuracy: 0.9438\n",
      "Epoch 12/20\n",
      "125/125 [==============================] - 0s 1ms/step - loss: 0.0000e+00 - accuracy: 0.9438\n",
      "Epoch 13/20\n",
      "125/125 [==============================] - 0s 1ms/step - loss: 0.0000e+00 - accuracy: 0.9438\n",
      "Epoch 14/20\n",
      "125/125 [==============================] - 0s 1ms/step - loss: 0.0000e+00 - accuracy: 0.9438\n",
      "Epoch 15/20\n",
      "125/125 [==============================] - 0s 1ms/step - loss: 0.0000e+00 - accuracy: 0.9438\n",
      "Epoch 16/20\n",
      "125/125 [==============================] - 0s 1ms/step - loss: 0.0000e+00 - accuracy: 0.9438\n",
      "Epoch 17/20\n",
      "125/125 [==============================] - 0s 1ms/step - loss: 0.0000e+00 - accuracy: 0.9438\n",
      "Epoch 18/20\n",
      "125/125 [==============================] - 0s 1ms/step - loss: 0.0000e+00 - accuracy: 0.9438\n",
      "Epoch 19/20\n",
      "125/125 [==============================] - 0s 1ms/step - loss: 0.0000e+00 - accuracy: 0.9438\n",
      "Epoch 20/20\n",
      "125/125 [==============================] - 0s 1ms/step - loss: 0.0000e+00 - accuracy: 0.9438\n",
      "125/125 [==============================] - 0s 1ms/step\n",
      "Model accuracy score with ANN using PCA :  94.25\n"
     ]
    }
   ],
   "source": [
    "#Artificial Neural Network using PCA\n",
    "\n",
    "import tensorflow as tf\n",
    "\n",
    "tf.random.set_seed(40)\n",
    "ann = tf.keras.models.Sequential()\n",
    "ann.add(tf.keras.layers.Dense(units=6,activation=\"relu\"))\n",
    "ann.add(tf.keras.layers.Dense(units=6,activation=\"relu\"))\n",
    "ann.add(tf.keras.layers.Dense(units=1,activation=\"sigmoid\"))\n",
    "ann.compile(optimizer=\"adam\",loss=\"categorical_crossentropy\",metrics=['accuracy'])\n",
    "\n",
    "ann.fit(lpca_Xtrain,lpca_Ytrain,batch_size=32,epochs = 20)\n",
    "pred = ann.predict(lpca_Xtest)\n",
    "\n",
    "pred_ann= []\n",
    "for i in pred:\n",
    "    i = i.astype(int)\n",
    "    pred_ann.append(i)\n",
    "#print(pred)\n",
    "accuracy = accuracy_score(lpca_Ytest, pred_ann)*100\n",
    "print('Model accuracy score with ANN using PCA : ', accuracy)"
   ]
  },
  {
   "cell_type": "code",
   "execution_count": 98,
   "id": "650eb073",
   "metadata": {},
   "outputs": [
    {
     "name": "stdout",
     "output_type": "stream",
     "text": [
      "Epoch 1/20\n",
      "125/125 [==============================] - 0s 1ms/step - loss: 0.0000e+00 - accuracy: 0.9413\n",
      "Epoch 2/20\n",
      "125/125 [==============================] - 0s 1ms/step - loss: 0.0000e+00 - accuracy: 0.9420\n",
      "Epoch 3/20\n",
      "125/125 [==============================] - 0s 1ms/step - loss: 0.0000e+00 - accuracy: 0.9420\n",
      "Epoch 4/20\n",
      "125/125 [==============================] - 0s 1ms/step - loss: 0.0000e+00 - accuracy: 0.9420\n",
      "Epoch 5/20\n",
      "125/125 [==============================] - 0s 1ms/step - loss: 0.0000e+00 - accuracy: 0.9420\n",
      "Epoch 6/20\n",
      "125/125 [==============================] - 0s 1ms/step - loss: 0.0000e+00 - accuracy: 0.9420\n",
      "Epoch 7/20\n",
      "125/125 [==============================] - 0s 1ms/step - loss: 0.0000e+00 - accuracy: 0.9420\n",
      "Epoch 8/20\n",
      "125/125 [==============================] - 0s 1ms/step - loss: 0.0000e+00 - accuracy: 0.9420\n",
      "Epoch 9/20\n",
      "125/125 [==============================] - 0s 1ms/step - loss: 0.0000e+00 - accuracy: 0.9420\n",
      "Epoch 10/20\n",
      "125/125 [==============================] - 0s 1ms/step - loss: 0.0000e+00 - accuracy: 0.9420\n",
      "Epoch 11/20\n",
      "125/125 [==============================] - 0s 1ms/step - loss: 0.0000e+00 - accuracy: 0.9420\n",
      "Epoch 12/20\n",
      "125/125 [==============================] - 0s 1ms/step - loss: 0.0000e+00 - accuracy: 0.9420\n",
      "Epoch 13/20\n",
      "125/125 [==============================] - 0s 1ms/step - loss: 0.0000e+00 - accuracy: 0.9420\n",
      "Epoch 14/20\n",
      "125/125 [==============================] - 0s 1ms/step - loss: 0.0000e+00 - accuracy: 0.9420\n",
      "Epoch 15/20\n",
      "125/125 [==============================] - 0s 1ms/step - loss: 0.0000e+00 - accuracy: 0.9420\n",
      "Epoch 16/20\n",
      "125/125 [==============================] - 0s 1ms/step - loss: 0.0000e+00 - accuracy: 0.9420\n",
      "Epoch 17/20\n",
      "125/125 [==============================] - 0s 1ms/step - loss: 0.0000e+00 - accuracy: 0.9420\n",
      "Epoch 18/20\n",
      "125/125 [==============================] - 0s 1ms/step - loss: 0.0000e+00 - accuracy: 0.9420\n",
      "Epoch 19/20\n",
      "125/125 [==============================] - 0s 1ms/step - loss: 0.0000e+00 - accuracy: 0.9420\n",
      "Epoch 20/20\n",
      "125/125 [==============================] - 0s 1ms/step - loss: 0.0000e+00 - accuracy: 0.9420\n",
      "125/125 [==============================] - 0s 993us/step\n",
      "Model accuracy score with ANN using Kernel PCA :  94.425\n"
     ]
    }
   ],
   "source": [
    "#Artificial Neural Network using Kernel PCA\n",
    "\n",
    "tf.random.set_seed(40)\n",
    "ann = tf.keras.models.Sequential()\n",
    "ann.add(tf.keras.layers.Dense(units=6,activation=\"relu\"))\n",
    "ann.add(tf.keras.layers.Dense(units=6,activation=\"relu\"))\n",
    "ann.add(tf.keras.layers.Dense(units=1,activation=\"sigmoid\"))\n",
    "ann.compile(optimizer=\"adam\",loss=\"categorical_crossentropy\",metrics=['accuracy'])\n",
    "\n",
    "ann.fit(kpca_Xtrain,kpca_Ytrain,batch_size=32,epochs = 20)\n",
    "pred = ann.predict(kpca_Xtest)\n",
    "#print(pred)\n",
    "\n",
    "pred_ann= []\n",
    "for i in pred:\n",
    "    i = i.astype(int)\n",
    "    pred_ann.append(i)\n",
    "    \n",
    "accuracy = accuracy_score(kpca_Ytest, pred_ann)*100\n",
    "print('Model accuracy score with ANN using Kernel PCA : ', accuracy)"
   ]
  },
  {
   "cell_type": "code",
   "execution_count": null,
   "id": "00e42ee9",
   "metadata": {},
   "outputs": [],
   "source": []
  },
  {
   "cell_type": "code",
   "execution_count": null,
   "id": "c3d0cf4c",
   "metadata": {},
   "outputs": [],
   "source": []
  }
 ],
 "metadata": {
  "kernelspec": {
   "display_name": "Python 3 (ipykernel)",
   "language": "python",
   "name": "python3"
  },
  "language_info": {
   "codemirror_mode": {
    "name": "ipython",
    "version": 3
   },
   "file_extension": ".py",
   "mimetype": "text/x-python",
   "name": "python",
   "nbconvert_exporter": "python",
   "pygments_lexer": "ipython3",
   "version": "3.9.7"
  }
 },
 "nbformat": 4,
 "nbformat_minor": 5
}
